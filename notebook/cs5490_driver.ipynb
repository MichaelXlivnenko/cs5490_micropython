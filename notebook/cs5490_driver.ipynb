{
 "cells": [
  {
   "cell_type": "code",
   "execution_count": 25,
   "metadata": {},
   "outputs": [
    {
     "name": "stdout",
     "output_type": "stream",
     "text": [
      "\u001b[34mConnecting to --port=/dev/ttyS15 --baud=115200 \u001b[0m\n",
      "\u001b[34mReady.\n",
      "\u001b[0m"
     ]
    }
   ],
   "source": [
    "%serialconnect --port='/dev/ttyS15'"
   ]
  },
  {
   "cell_type": "code",
   "execution_count": 26,
   "metadata": {},
   "outputs": [
    {
     "name": "stdout",
     "output_type": "stream",
     "text": [
      "repl is in normal command mode\n",
      "[\\r\\x03\\x03] b'\\r\\nMicroPython v1.9.4-773-gafecc124e on 2019-01-09; ESP32 module with ESP32\\r\\nType \"help()\" for more information.\\r\\n>>> \\r\\n>>> \\r\\nPYB: soft reboot\\r\\nOSError: [Errno 2] ENOENT\\r\\nMicroPython v1.9.4-773-gafecc124e on 2019-01-09; ESP32 module with ESP32\\r\\nType \"help()\" for more information.\\r\\n>>> \\r\\n>>> \\r\\n>>> '\n",
      "[\\r\\x01] b'\\r\\n>>> \\r\\nraw REPL; CTRL-B to exit\\r\\n>'"
     ]
    }
   ],
   "source": [
    "%rebootdevice"
   ]
  },
  {
   "cell_type": "code",
   "execution_count": 27,
   "metadata": {},
   "outputs": [],
   "source": [
    "import machine\n",
    "import utime"
   ]
  },
  {
   "cell_type": "code",
   "execution_count": 28,
   "metadata": {},
   "outputs": [],
   "source": [
    "u2 = machine.UART(2, baudrate=600, rx=16, tx=17, timeout=20)\n",
    "utime.sleep(1)"
   ]
  },
  {
   "cell_type": "markdown",
   "metadata": {},
   "source": [
    "# Read Hardware register Config0"
   ]
  },
  {
   "cell_type": "code",
   "execution_count": 29,
   "metadata": {},
   "outputs": [
    {
     "name": "stdout",
     "output_type": "stream",
     "text": [
      "['0x0', '0x20', '0xc0']\r\n"
     ]
    }
   ],
   "source": [
    "u2.write(bytearray(b'\\x80\\x00'))\n",
    "utime.sleep(1)\n",
    "val = [hex(v) for v in u2.read(3)]\n",
    "print(val)"
   ]
  },
  {
   "cell_type": "markdown",
   "metadata": {},
   "source": [
    "# Read Software register Temperature Gain"
   ]
  },
  {
   "cell_type": "code",
   "execution_count": 30,
   "metadata": {},
   "outputs": [
    {
     "name": "stdout",
     "output_type": "stream",
     "text": [
      "['0x16', '0xb7', '0x6']\r\n"
     ]
    }
   ],
   "source": [
    "u2.write(bytearray(b'\\x90\\x36'))\n",
    "utime.sleep(1)\n",
    "val = [hex(v) for v in u2.read(3)]\n",
    "print(val)"
   ]
  },
  {
   "cell_type": "code",
   "execution_count": 31,
   "metadata": {},
   "outputs": [
    {
     "name": "stdout",
     "output_type": "stream",
     "text": [
      "['0x98', '0x39', '0xd5']\r\n"
     ]
    }
   ],
   "source": [
    "u2.write(bytearray(b'\\x90\\x37'))\n",
    "utime.sleep(1)\n",
    "val = [hex(v) for v in u2.read(3)]\n",
    "print(val)"
   ]
  },
  {
   "cell_type": "markdown",
   "metadata": {},
   "source": [
    "# Read Instantenous voltage and current"
   ]
  },
  {
   "cell_type": "code",
   "execution_count": 35,
   "metadata": {},
   "outputs": [
    {
     "name": "stdout",
     "output_type": "stream",
     "text": [
      "['0x0', '0x0', '0x0']\n",
      "['0x0', '0x0', '0x0']\n",
      "['0x0', '0x0', '0x0']\n",
      "['0x0', '0x0', '0x0']\n",
      ".['0x0', '0x0', '0x0']\n",
      "['0x0', '0x0', '0x0']\n",
      "['0x0', '0x0', '0x0']\n",
      "['0x0', '0x0', '0x0']\n",
      "['0x0', '0x0', '0x0']\n",
      "['0x0', '0x0', '0x0']\n",
      "['0x0', '0x0', '0x0']\n",
      "['0x0', '0x0', '0x0']\n",
      "['0x0', '0x0', '0x0']\n",
      ".['0x0', '0x0', '0x0']\n",
      "['0x0', '0x0', '0x0']\n",
      "['0x0', '0x0', '0x0']\n",
      "['0x0', '0x0', '0x0']\n",
      "['0x0', '0x0', '0x0']\n",
      "['0x0', '0x0', '0x0']\n",
      "\u001b[34m\n",
      "\n",
      "*** Sending Ctrl-C\n",
      "\n",
      "\u001b[0m"
     ]
    },
    {
     "name": "stderr",
     "output_type": "stream",
     "text": [
      "Traceback (most recent call last):\n",
      "  File \"<stdin>\", line 3, in <module>\n",
      "KeyboardInterrupt: \n"
     ]
    }
   ],
   "source": [
    "while True:\n",
    "    u2.write(bytearray(b'\\x90\\x02'))\n",
    "    utime.sleep(1)\n",
    "    val = [hex(v) for v in u2.read(3)]\n",
    "    print(val)"
   ]
  },
  {
   "cell_type": "code",
   "execution_count": 33,
   "metadata": {},
   "outputs": [
    {
     "name": "stdout",
     "output_type": "stream",
     "text": [
      "['0x0', '0x0', '0x0']\r\n"
     ]
    }
   ],
   "source": [
    "u2.write(bytearray(b'\\x90\\x03'))\n",
    "utime.sleep(1)\n",
    "val = [hex(v) for v in u2.read(3)]\n",
    "print(val)"
   ]
  },
  {
   "cell_type": "code",
   "execution_count": null,
   "metadata": {},
   "outputs": [],
   "source": []
  }
 ],
 "metadata": {
  "kernelspec": {
   "display_name": "MicroPython - USB",
   "language": "micropython",
   "name": "micropython"
  },
  "language_info": {
   "codemirror_mode": "python",
   "file_extension": ".py",
   "mimetype": "text/python",
   "name": "micropython"
  }
 },
 "nbformat": 4,
 "nbformat_minor": 2
}
