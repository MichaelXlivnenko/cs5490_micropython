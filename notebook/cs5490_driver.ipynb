{
 "cells": [
  {
   "cell_type": "code",
   "execution_count": 1,
   "metadata": {},
   "outputs": [
    {
     "name": "stdout",
     "output_type": "stream",
     "text": [
      "\u001b[34mConnecting to --port=/dev/ttyS15 --baud=115200 \u001b[0m\n",
      "\u001b[34mReady.\n",
      "\u001b[0m"
     ]
    }
   ],
   "source": [
    "%serialconnect --port='/dev/ttyS15'"
   ]
  },
  {
   "cell_type": "code",
   "execution_count": 2,
   "metadata": {},
   "outputs": [
    {
     "name": "stdout",
     "output_type": "stream",
     "text": [
      "repl is in normal command mode\n",
      "[\\r\\x03\\x03] b'\\r\\nMicroPython v1.9.4-773-gafecc124e on 2019-01-09; ESP32 module with ESP32\\r\\nType \"help()\" for more information.\\r\\n>>> \\r\\n>>> \\r\\nPYB: soft reboot\\r\\nOSError: [Errno 2] ENOENT\\r\\nMicroPython v1.9.4-773-gafecc124e on 2019-01-09; ESP32 module with ESP32\\r\\nType \"help()\" for more information.\\r\\n>>> \\r\\n>>> \\r\\n>>> '\n",
      "[\\r\\x01] b'\\r\\n>>> \\r\\nraw REPL; CTRL-B to exit\\r\\n>'"
     ]
    }
   ],
   "source": [
    "%rebootdevice"
   ]
  },
  {
   "cell_type": "code",
   "execution_count": 3,
   "metadata": {},
   "outputs": [],
   "source": [
    "import machine\n",
    "import utime\n",
    "import ustruct"
   ]
  },
  {
   "cell_type": "markdown",
   "metadata": {},
   "source": [
    "# List Important Registers\n",
    "Sourced from [datasheet](https://statics.cirrus.com/pubs/proDatasheet/CS5490_F3.pdf)"
   ]
  },
  {
   "cell_type": "code",
   "execution_count": 4,
   "metadata": {},
   "outputs": [],
   "source": [
    "# HARDWARE Page 0\n",
    "HARDWARE_PAGE = 0x80\n",
    "\n",
    "# List Addresses\n",
    "CONFIG0 = 0x00\n",
    "CONFIG1 = 0x01\n",
    "MASK = 0x03\n",
    "PC = 0x05\n",
    "SERIALCTRL = 0x07\n",
    "PULSEWIDTH = 0x08\n",
    "PULSECTRL = 0x09\n",
    "STATUS0 = 0x17\n",
    "STATUS1 = 0x18\n",
    "STATUS2 = 0x19\n",
    "REGLOCK = 0x22\n",
    "VPEAK = 0x24\n",
    "IPEAK = 0x25\n",
    "PSDC = 0x30\n",
    "ZXNUM = 0x37\n",
    "\n",
    "# SOFTWARE Page 16\n",
    "SOFTWARE_P16 = 0x90\n",
    "\n",
    "# List Addresses\n",
    "CONFIG2 = 0x00\n",
    "REGCHK = 0x01\n",
    "V_INST = 0x02\n",
    "I_INST = 0x03\n",
    "P_INST = 0x04\n",
    "P_AVG = 0x05\n",
    "I_RMS = 0x06\n",
    "V_RMS = 0x07\n",
    "Q_AVG = 0x0E\n",
    "Q_INST = 0x0F\n",
    "S_INST = 0x14\n",
    "PF = 0x15\n",
    "TEMP = 0x1B\n",
    "P_SUM = 0x1D\n",
    "S_SUM = 0x1E\n",
    "Q_SUM = 0x1F\n",
    "I_DCOFF = 0x20\n",
    "I_GAIN = 0x21\n",
    "V_DCOFF = 0x22\n",
    "V_GAIN = 0x23\n",
    "P_OFF = 0x24\n",
    "I_ACOFF = 0x25\n",
    "EPSILON = 0x31\n",
    "SAMPLECOUNT = 0x33\n",
    "T_GAIN = 0x36\n",
    "T_OFF = 0x37\n",
    "T_SETTLE = 0x39\n",
    "LOAD_MIN = 0x40\n",
    "SYS_GAIN = 0x3C\n",
    "SYS_TIME = 0x3D\n",
    "\n",
    "# SOFTWARE Page 17\n",
    "SOFTWARE_P17 = 0x91\n",
    "\n",
    "# List Addresses\n",
    "VSAG_DUR = 0x00\n",
    "VSAG_LEVEL = 0x01\n",
    "IOVER_DUR = 0x04\n",
    "IOVER_LEVEL = 0x05\n",
    "\n",
    "# SOFTWARE Page 18\n",
    "SOFTWARE_P18 = 0x92\n",
    "\n",
    "# List Addresses\n",
    "IZX_LEVEL = 0x18\n",
    "PULSERATE = 0x1C\n",
    "INT_GAIN = 0x2B\n",
    "VSWELL_DUR = 0x2E\n",
    "VSWELL_LEVEL = 0x2F\n",
    "VZX_LEVEL = 0x3A\n",
    "CYCLECOUNT = 0x3E\n",
    "SCALE = 0x3F\n",
    "\n",
    "# Instructions (pre masked with instruction byte prefix 0b11000000)\n",
    "\n",
    "# Controls\n",
    "SOFT_RESET = 0xC1\n",
    "STANDBY = 0xC2\n",
    "WAKEUP = 0xC3\n",
    "SINGLE_CONV =  0xD4\n",
    "CONT_CONV = 0xD5\n",
    "HALT_CONV = 0xD8\n",
    "\n",
    "# Calibration\n",
    "I_AC_CAL = 0xF1\n",
    "V_AC_CAL = 0xF2\n",
    "IV_AC_CAL = 0xF6\n",
    "I_DC_CAL = 0xE1\n",
    "V_DC_CAL = 0xE2\n",
    "IV_DC_CAL = 0xE6\n",
    "I_GAIN_CAL = 0xF9\n",
    "V_GAIN_CAL = 0xFA\n",
    "IV_GAIN_CAL = 0xFE"
   ]
  },
  {
   "cell_type": "code",
   "execution_count": 5,
   "metadata": {},
   "outputs": [],
   "source": [
    "u2 = machine.UART(2, baudrate=600, rx=16, tx=17, timeout=20)\n",
    "utime.sleep(1)"
   ]
  },
  {
   "cell_type": "code",
   "execution_count": 6,
   "metadata": {},
   "outputs": [],
   "source": [
    "def read_register(page,register):\n",
    "    u2.write(bytearray([page,register]))\n",
    "    utime.sleep(1)\n",
    "    buffer = bytearray(4)\n",
    "    buffer[1:] = u2.read(3)\n",
    "    val = ustruct.unpack('>L',buffer)[0]\n",
    "    return val"
   ]
  },
  {
   "cell_type": "code",
   "execution_count": 7,
   "metadata": {},
   "outputs": [],
   "source": [
    "def write_register(page,register,val):\n",
    "    register = 1<<6 | register\n",
    "    u2.write(bytearray([page,register]))\n",
    "    buffer = ustruct.pack('>BBB',(val>>16)&0xff,(val>>8)&0xff,val&0xff)\n",
    "    u2.write(buffer)"
   ]
  },
  {
   "cell_type": "code",
   "execution_count": 8,
   "metadata": {},
   "outputs": [],
   "source": [
    "def instruction(inst_byte):\n",
    "    u2.write(bytearray([inst_byte]))"
   ]
  },
  {
   "cell_type": "markdown",
   "metadata": {},
   "source": [
    "# Persorm Soft RESET"
   ]
  },
  {
   "cell_type": "code",
   "execution_count": 9,
   "metadata": {},
   "outputs": [],
   "source": [
    "instruction(SOFT_RESET)"
   ]
  },
  {
   "cell_type": "markdown",
   "metadata": {},
   "source": [
    "# Read Hardware register Config0"
   ]
  },
  {
   "cell_type": "code",
   "execution_count": 10,
   "metadata": {},
   "outputs": [
    {
     "name": "stdout",
     "output_type": "stream",
     "text": [
      "8384\r\n"
     ]
    }
   ],
   "source": [
    "print(read_register(HARDWARE_PAGE,CONFIG0))"
   ]
  },
  {
   "cell_type": "markdown",
   "metadata": {},
   "source": [
    "# Read Software register Voltage Gain, Current Gain, Temperature Gain"
   ]
  },
  {
   "cell_type": "code",
   "execution_count": 11,
   "metadata": {},
   "outputs": [
    {
     "name": "stdout",
     "output_type": "stream",
     "text": [
      "64\r\n"
     ]
    }
   ],
   "source": [
    "print(read_register(SOFTWARE_P16,V_GAIN))"
   ]
  },
  {
   "cell_type": "code",
   "execution_count": 12,
   "metadata": {},
   "outputs": [],
   "source": [
    "write_register(SOFTWARE_P16,V_GAIN,8192)"
   ]
  },
  {
   "cell_type": "code",
   "execution_count": 13,
   "metadata": {},
   "outputs": [
    {
     "name": "stdout",
     "output_type": "stream",
     "text": [
      "8192\r\n"
     ]
    }
   ],
   "source": [
    "print(read_register(SOFTWARE_P16,V_GAIN))"
   ]
  },
  {
   "cell_type": "code",
   "execution_count": 14,
   "metadata": {},
   "outputs": [
    {
     "name": "stdout",
     "output_type": "stream",
     "text": [
      ".64\n"
     ]
    }
   ],
   "source": [
    "print(read_register(SOFTWARE_P16,I_GAIN))"
   ]
  },
  {
   "cell_type": "code",
   "execution_count": 15,
   "metadata": {},
   "outputs": [
    {
     "name": "stdout",
     "output_type": "stream",
     "text": [
      "1488646\r\n"
     ]
    }
   ],
   "source": [
    "print(read_register(SOFTWARE_P16,T_GAIN))"
   ]
  },
  {
   "cell_type": "markdown",
   "metadata": {},
   "source": [
    "# Read Software register Voltage Sag, Over Current"
   ]
  },
  {
   "cell_type": "code",
   "execution_count": 16,
   "metadata": {},
   "outputs": [
    {
     "name": "stdout",
     "output_type": "stream",
     "text": [
      "0\n",
      "16777087\n"
     ]
    }
   ],
   "source": [
    "print(read_register(SOFTWARE_P17,VSAG_LEVEL))\n",
    "print(read_register(SOFTWARE_P17,IOVER_LEVEL))"
   ]
  },
  {
   "cell_type": "markdown",
   "metadata": {},
   "source": [
    "# Read Instantenous voltage and current"
   ]
  },
  {
   "cell_type": "code",
   "execution_count": 17,
   "metadata": {},
   "outputs": [],
   "source": [
    "instruction(CONT_CONV)"
   ]
  },
  {
   "cell_type": "code",
   "execution_count": 18,
   "metadata": {
    "scrolled": true
   },
   "outputs": [
    {
     "name": "stdout",
     "output_type": "stream",
     "text": [
      "8394752\n",
      "7345920\n",
      "2103296\n",
      ".10491392\n",
      "5888\n",
      "4199424\n",
      "5248768\n",
      "7345920\n",
      "13637376\n",
      "1054976\n"
     ]
    }
   ],
   "source": [
    "for i in range(10):\n",
    "    print(read_register(SOFTWARE_P16,V_INST))"
   ]
  },
  {
   "cell_type": "code",
   "execution_count": 19,
   "metadata": {},
   "outputs": [
    {
     "name": "stdout",
     "output_type": "stream",
     "text": [
      "12582912\n",
      "11534336\n",
      ".12582912\n",
      "11534336\n",
      "11534336\n",
      "12582912\n",
      "11534336\n",
      "11534336\n",
      "11534336\n",
      "12582912\n"
     ]
    }
   ],
   "source": [
    "for i in range(10):\n",
    "    print(read_register(SOFTWARE_P16,I_INST))"
   ]
  }
 ],
 "metadata": {
  "kernelspec": {
   "display_name": "MicroPython - USB",
   "language": "micropython",
   "name": "micropython"
  },
  "language_info": {
   "codemirror_mode": "python",
   "file_extension": ".py",
   "mimetype": "text/python",
   "name": "micropython"
  }
 },
 "nbformat": 4,
 "nbformat_minor": 2
}
