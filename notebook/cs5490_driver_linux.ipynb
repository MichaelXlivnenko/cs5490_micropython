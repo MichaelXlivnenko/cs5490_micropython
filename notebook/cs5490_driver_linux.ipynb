{
 "cells": [
  {
   "cell_type": "code",
   "execution_count": 92,
   "metadata": {},
   "outputs": [],
   "source": [
    "import collections\n",
    "import serial\n",
    "import struct\n",
    "import time\n"
   ]
  },
  {
   "cell_type": "markdown",
   "metadata": {},
   "source": [
    "# List Important Registers\n",
    "Sourced from [datasheet](https://statics.cirrus.com/pubs/proDatasheet/CS5490_F3.pdf)"
   ]
  },
  {
   "cell_type": "code",
   "execution_count": 117,
   "metadata": {},
   "outputs": [],
   "source": [
    "CMD_READ  = 0x00\n",
    "CMD_WRITE = 0x40\n",
    "CMD_PAGE  = 0x80\n",
    "CMD_INST  = 0xC0\n",
    "\n",
    "# HARDWARE Page 0\n",
    "HARDWARE_PAGE = 0 << 8\n",
    "\n",
    "# Note, page + address are merged into a single 16 bit value\n",
    "# List Addresses\n",
    "CONFIG0 = 0x00 + HARDWARE_PAGE\n",
    "CONFIG1 = 0x01 + HARDWARE_PAGE\n",
    "MASK = 0x03 + HARDWARE_PAGE\n",
    "PC = 0x05 + HARDWARE_PAGE\n",
    "SERIALCTRL = 0x07 + HARDWARE_PAGE\n",
    "PULSEWIDTH = 0x08 + HARDWARE_PAGE\n",
    "PULSECTRL = 0x09 + HARDWARE_PAGE\n",
    "STATUS0 = 0x17 + HARDWARE_PAGE\n",
    "STATUS1 = 0x18 + HARDWARE_PAGE\n",
    "STATUS2 = 0x19 + HARDWARE_PAGE\n",
    "REGLOCK = 0x22 + HARDWARE_PAGE\n",
    "V_PEAK = 0x24 + HARDWARE_PAGE\n",
    "I_PEAK = 0x25 + HARDWARE_PAGE\n",
    "PSDC = 0x30 + HARDWARE_PAGE\n",
    "ZXNUM = 0x37 + HARDWARE_PAGE\n",
    "\n",
    "# SOFTWARE Page 16\n",
    "SOFTWARE_P16 = 16 << 8\n",
    "\n",
    "# List Addresses\n",
    "CONFIG2 = 0x00 + SOFTWARE_P16\n",
    "REGCHK = 0x01 + SOFTWARE_P16\n",
    "V_INST = 0x02 + SOFTWARE_P16\n",
    "I_INST = 0x03 + SOFTWARE_P16\n",
    "P_INST = 0x04 + SOFTWARE_P16\n",
    "P_AVG = 0x05 + SOFTWARE_P16\n",
    "I_RMS = 0x06 + SOFTWARE_P16\n",
    "V_RMS = 0x07 + SOFTWARE_P16\n",
    "Q_AVG = 0x0E + SOFTWARE_P16\n",
    "Q_INST = 0x0F + SOFTWARE_P16\n",
    "S_INST = 0x14 + SOFTWARE_P16\n",
    "PF = 0x15 + SOFTWARE_P16\n",
    "TEMP = 0x1B + SOFTWARE_P16  # S Q7.16\n",
    "P_SUM = 0x1D + SOFTWARE_P16\n",
    "S_SUM = 0x1E + SOFTWARE_P16\n",
    "Q_SUM = 0x1F + SOFTWARE_P16\n",
    "I_DCOFF = 0x20 + SOFTWARE_P16\n",
    "I_GAIN = 0x21 + SOFTWARE_P16  # U Q2.22\n",
    "V_DCOFF = 0x22 + SOFTWARE_P16\n",
    "V_GAIN = 0x23 + SOFTWARE_P16  # U Q2.22\n",
    "P_OFF = 0x24 + SOFTWARE_P16\n",
    "I_ACOFF = 0x25 + SOFTWARE_P16\n",
    "EPSILON = 0x31 + SOFTWARE_P16\n",
    "SAMPLECOUNT = 0x33 + SOFTWARE_P16\n",
    "T_GAIN = 0x36 + SOFTWARE_P16  # U Q8.16\n",
    "T_OFF = 0x37 + SOFTWARE_P16\n",
    "T_SETTLE = 0x39 + SOFTWARE_P16\n",
    "LOAD_MIN = 0x40 + SOFTWARE_P16\n",
    "SYS_GAIN = 0x3C + SOFTWARE_P16\n",
    "SYS_TIME = 0x3D + SOFTWARE_P16\n",
    "\n",
    "# SOFTWARE Page 17\n",
    "SOFTWARE_P17 = 17 << 8\n",
    "\n",
    "# List Addresses\n",
    "VSAG_DUR = 0x00 + SOFTWARE_P17\n",
    "VSAG_LEVEL = 0x01 + SOFTWARE_P17\n",
    "IOVER_DUR = 0x04 + SOFTWARE_P17\n",
    "IOVER_LEVEL = 0x05 + SOFTWARE_P17\n",
    "\n",
    "# SOFTWARE Page 18\n",
    "SOFTWARE_P18 = 18 << 8\n",
    "\n",
    "# List Addresses\n",
    "IZX_LEVEL = 0x18 + SOFTWARE_P18\n",
    "PULSERATE = 0x1C + SOFTWARE_P18\n",
    "INT_GAIN = 0x2B + SOFTWARE_P18\n",
    "VSWELL_DUR = 0x2E + SOFTWARE_P18\n",
    "VSWELL_LEVEL = 0x2F + SOFTWARE_P18\n",
    "VZX_LEVEL = 0x3A + SOFTWARE_P18\n",
    "CYCLECOUNT = 0x3E + SOFTWARE_P18\n",
    "SCALE = 0x3F + SOFTWARE_P18\n",
    "\n",
    "SIGNED = True\n",
    "UNSIGNED = False\n",
    "\n",
    "# Start of register metadata, will help with register dumps, value conversions, sanity check\n",
    "regtable = (  # (address, string:name, int:q, bool:SIGNED, int:default)\n",
    "    # HW page 0\n",
    "    (CONFIG0, 'config0', 0, UNSIGNED, 0xC02000),\n",
    "    (CONFIG1, 'config1', 0, UNSIGNED, 0x00EEEE),\n",
    "    (SERIALCTRL, 'serialctrl', 0, UNSIGNED, 0x02004D),\n",
    "    (STATUS0, 'status0', 0, UNSIGNED, 0x800000),\n",
    "    (STATUS1, 'status1', 0, UNSIGNED, 0x801800),\n",
    "    (STATUS2, 'status2', 0, UNSIGNED, 0),\n",
    "    (V_PEAK, 'v_peak', 23, SIGNED, 0),\n",
    "    (I_PEAK, 'i_peak', 23, SIGNED, 0),\n",
    "    \n",
    "    # SW page 16\n",
    "    (CONFIG2, 'config2', 0, UNSIGNED, 0x100200),\n",
    "    (REGCHK, 'regchk', 0, UNSIGNED, 0),\n",
    "    (V_INST, 'v_inst', 23, SIGNED, 0),\n",
    "    (I_INST, 'i_inst', 23, SIGNED, 0),\n",
    "    (P_INST, 'p_inst', 23, SIGNED, 0),\n",
    "    (P_AVG, 'p_avg', 23, SIGNED, 0),\n",
    "    (I_RMS, 'i_rms', 24, UNSIGNED, 0),\n",
    "    (V_RMS, 'v_rms', 24, UNSIGNED, 0),\n",
    "    (Q_AVG, 'q_avg', 23, SIGNED, 0),\n",
    "\n",
    "    (TEMP, 'temp', 16, SIGNED, 0),\n",
    "    (I_GAIN, 'i_gain', 22, UNSIGNED, 0x400000),\n",
    "    (V_GAIN, 'v_gain', 22, UNSIGNED, 0x400000),\n",
    "    (T_GAIN, 't_gain', 16, UNSIGNED, 0x06B716),\n",
    ")\n",
    "\n",
    "reginfo = collections.OrderedDict(((r[0], r[1:]) for r in regtable))\n",
    "\n",
    "# Instructions (use with CMD_INST)\n",
    "\n",
    "# Controls\n",
    "SOFT_RESET = 0x1\n",
    "STANDBY = 0x2\n",
    "WAKEUP = 0x3\n",
    "SINGLE_CONV =  0x14\n",
    "CONT_CONV = 0x15\n",
    "HALT_CONV = 0x18\n",
    "\n",
    "# Calibration\n",
    "I_AC_CAL = 0x31\n",
    "V_AC_CAL = 0x32\n",
    "IV_AC_CAL = 0x36\n",
    "I_DC_CAL = 0x21\n",
    "V_DC_CAL = 0x22\n",
    "IV_DC_CAL = 0x26\n",
    "I_GAIN_CAL = 0x39\n",
    "V_GAIN_CAL = 0x3A\n",
    "\n",
    "IV_GAIN_CAL = 0x3E"
   ]
  },
  {
   "cell_type": "code",
   "execution_count": 133,
   "metadata": {},
   "outputs": [],
   "source": [
    " # Conversion functions between float and fixed point\n",
    "\n",
    "def q2f(v, q, signed=SIGNED):\n",
    "    '''Signed fixed point to float conversion\n",
    "    val = 24 bit integer value\n",
    "    q = number of fraction bits 0..23'''\n",
    "    sign = v & 0x800000\n",
    "    if signed:\n",
    "        assert(q <= 23)\n",
    "        v = v & 0x7FFFFF\n",
    "        v = v - sign\n",
    "    else:\n",
    "        assert(q <= 24)\n",
    "    return v / (1 << q)\n",
    "\n",
    "\n",
    "def f2q(val, q, signed=SIGNED):\n",
    "    '''Float to fixed point. Works for signed and unsigned nubmers'''\n",
    "    return int(0xFFFFFF & int(val * (1 << q)))\n",
    "\n",
    "if False:\n",
    "    # Quick eyeball test\n",
    "    tv = (1, 0x10000, 0x7FFFFF, 0x800000, 0x810000, 0xFFFFFF)\n",
    "    for v in tv:\n",
    "        s = q2f(v, 23, True)\n",
    "        u = q2f(v, 24, False)\n",
    "        print(v, s, u, f2q(s, 23, True), f2q(u, 24, False))"
   ]
  },
  {
   "cell_type": "code",
   "execution_count": 123,
   "metadata": {},
   "outputs": [],
   "source": [
    "class cs5490(object):\n",
    "    def __init__(self, serial, debug=False):\n",
    "        self.current_page = None\n",
    "        self.serial = serial\n",
    "        self.debug = debug\n",
    "        \n",
    "    def read_register(self, register):\n",
    "        page = (register & 0x3F00) >> 8\n",
    "        addr = register & 0x3F\n",
    "        if self.current_page != page:\n",
    "            self.serial.write(bytearray([CMD_PAGE | page]))\n",
    "            self.current_page = page\n",
    "        self.serial.write(bytearray([addr]))\n",
    "        # time.sleep(0.1)\n",
    "        buffer = bytearray(4)\n",
    "        rb = self.serial.read(3)\n",
    "        buffer[0:3] = rb\n",
    "        val = struct.unpack('<L',buffer)[0]\n",
    "        if self.debug:\n",
    "            info = reginfo.get(register, ('unknown', 0, False, 0))\n",
    "            sv = q2f(val, info[1], info[2])\n",
    "            print('Read %10s %02d:%02d = 0x%06x %d %f default = 0x%06x' % \n",
    "                  (info[0], page, addr, val, val, sv, info[3]))\n",
    "        return val\n",
    "\n",
    "    def write_register(self, register, val):\n",
    "        page = (register & 0x3F00) >> 8\n",
    "        addr = register & 0x3F\n",
    "        if self.current_page != page:\n",
    "            self.serial.write(bytearray([CMD_PAGE | page]))\n",
    "            self.current_page = page\n",
    "        self.serial.write(bytearray([CMD_WRITE | addr]))\n",
    "        buffer = struct.pack('<L', val)\n",
    "        self.serial.write(buffer[0:3])    \n",
    "        if self.debug:\n",
    "            info = reginfo.get(register, ('unknown', 0, False, 0))\n",
    "            sv = q2f(val, info[1], info[2])\n",
    "            print('Write %02d:%02d = 0x%06x %d %s %s' % (page, addr, val, val, sv, info[0]))\n",
    "        \n",
    "    def instruction(self, instr):\n",
    "        self.serial.write(bytearray([CMD_INST | instr]))\n",
    "        if self.debug:\n",
    "            print('Instruction %x' % instr)"
   ]
  },
  {
   "cell_type": "code",
   "execution_count": 124,
   "metadata": {},
   "outputs": [],
   "source": [
    "portname = '/dev/serial/by-id/usb-FTDI_FT232R_USB_UART_A6007wZa-if00-port0'\n",
    "sp = serial.Serial(port=portname, baudrate=600)\n",
    "time.sleep(1)\n",
    "chip = cs5490(sp, debug=True)"
   ]
  },
  {
   "cell_type": "markdown",
   "metadata": {},
   "source": [
    "# Perform Soft RESET"
   ]
  },
  {
   "cell_type": "code",
   "execution_count": 125,
   "metadata": {},
   "outputs": [
    {
     "name": "stdout",
     "output_type": "stream",
     "text": [
      "Instruction 1\n"
     ]
    }
   ],
   "source": [
    "chip.instruction(SOFT_RESET)"
   ]
  },
  {
   "cell_type": "markdown",
   "metadata": {},
   "source": [
    "# Read Hardware register Config0"
   ]
  },
  {
   "cell_type": "code",
   "execution_count": 126,
   "metadata": {},
   "outputs": [
    {
     "name": "stdout",
     "output_type": "stream",
     "text": [
      "Read    config0 00:00 = 0xc02000 12591104 12591104.000000 default = 0xc02000\n",
      "Read    config1 00:01 = 0x00eeee 61166 61166.000000 default = 0x00eeee\n",
      "Read serialctrl 00:07 = 0x02004d 131149 131149.000000 default = 0x02004d\n",
      "Read    status0 00:23 = 0x800000 8388608 8388608.000000 default = 0x800000\n",
      "Read    status1 00:24 = 0x801800 8394752 8394752.000000 default = 0x801800\n",
      "Read    status2 00:25 = 0x000000 0 0.000000 default = 0x000000\n",
      "Read     v_peak 00:36 = 0x000000 0 0.000000 default = 0x000000\n",
      "Read     i_peak 00:37 = 0x000000 0 0.000000 default = 0x000000\n",
      "Read    config2 16:00 = 0x100200 1049088 1049088.000000 default = 0x100200\n",
      "Read     regchk 16:01 = 0x000000 0 0.000000 default = 0x000000\n",
      "Read     v_inst 16:02 = 0x000000 0 0.000000 default = 0x000000\n",
      "Read     i_inst 16:03 = 0x000000 0 0.000000 default = 0x000000\n",
      "Read     p_inst 16:04 = 0x000000 0 0.000000 default = 0x000000\n",
      "Read      p_avg 16:05 = 0x000000 0 0.000000 default = 0x000000\n",
      "Read      i_rms 16:06 = 0x000000 0 0.000000 default = 0x000000\n",
      "Read      v_rms 16:07 = 0x000000 0 0.000000 default = 0x000000\n",
      "Read      q_avg 16:14 = 0x000000 0 0.000000 default = 0x000000\n",
      "Read       temp 16:27 = 0x000000 0 0.000000 default = 0x000000\n",
      "Read     i_gain 16:33 = 0x400000 4194304 1.000000 default = 0x400000\n",
      "Read     v_gain 16:35 = 0x400000 4194304 1.000000 default = 0x400000\n",
      "Read     t_gain 16:54 = 0x06b716 440086 6.715179 default = 0x06b716\n"
     ]
    }
   ],
   "source": [
    "chip.debug = True\n",
    "for addr, info in reginfo.items():\n",
    "    v = chip.read_register(addr)"
   ]
  },
  {
   "cell_type": "markdown",
   "metadata": {},
   "source": [
    "# Change Voltage Gain"
   ]
  },
  {
   "cell_type": "code",
   "execution_count": 127,
   "metadata": {},
   "outputs": [
    {
     "name": "stdout",
     "output_type": "stream",
     "text": [
      "Write 16:35 = 0x333333 3355443 0.7999999523162842 v_gain\n"
     ]
    }
   ],
   "source": [
    "gain = 0.8\n",
    "gain_q = f2q(gain, 22, False)\n",
    "chip.write_register(V_GAIN, gain_q)"
   ]
  },
  {
   "cell_type": "code",
   "execution_count": 128,
   "metadata": {},
   "outputs": [
    {
     "name": "stdout",
     "output_type": "stream",
     "text": [
      "Read     v_gain 16:35 = 0x333333 3355443 0.800000 default = 0x400000\n",
      "0.7999999523162842\n"
     ]
    }
   ],
   "source": [
    "v = chip.read_register(V_GAIN)\n",
    "print(q2f(v, 22, False))"
   ]
  },
  {
   "cell_type": "markdown",
   "metadata": {},
   "source": [
    "# Read Instantaneous voltage,current and power"
   ]
  },
  {
   "cell_type": "code",
   "execution_count": 130,
   "metadata": {},
   "outputs": [
    {
     "name": "stdout",
     "output_type": "stream",
     "text": [
      "Instruction 15\n"
     ]
    }
   ],
   "source": [
    "chip.instruction(CONT_CONV)"
   ]
  },
  {
   "cell_type": "code",
   "execution_count": 132,
   "metadata": {
    "scrolled": true
   },
   "outputs": [
    {
     "name": "stdout",
     "output_type": "stream",
     "text": [
      "V=0.169 I=0.397, P=0.067\n",
      "V=0.169 I=0.397, P=0.067\n",
      "V=0.169 I=0.397, P=0.067\n",
      "V=0.169 I=0.397, P=0.0672\n",
      "V=0.169 I=0.396, P=0.0669\n",
      "V=0.169 I=0.397, P=0.0669\n",
      "V=0.169 I=0.397, P=0.0669\n",
      "V=0.169 I=0.397, P=0.0669\n",
      "V=0.169 I=0.396, P=0.0669\n",
      "V=0.169 I=0.396, P=0.0668\n"
     ]
    }
   ],
   "source": [
    "chip.debug = False\n",
    "for _ in range(10):\n",
    "    v = chip.read_register(V_RMS)\n",
    "    i = chip.read_register(I_RMS)\n",
    "    p = chip.read_register(P_AVG)\n",
    "    vv = q2f(v, 24, False)\n",
    "    ii = q2f(i, 24, False)\n",
    "    pp = q2f(p, 23)\n",
    "    print(\"V={:5.3} I={:5.3}, P={:5.3}\".format(vv, ii, pp))\n",
    "    time.sleep(0.5)"
   ]
  },
  {
   "cell_type": "code",
   "execution_count": 60,
   "metadata": {},
   "outputs": [
    {
     "name": "stdout",
     "output_type": "stream",
     "text": [
      "temp 24.58984375\n"
     ]
    }
   ],
   "source": [
    "reg = TEMP\n",
    "name, q, sign, default = reginfo[TEMP]\n",
    "t = chip.read_register(TEMP)\n",
    "print(name, q2f(t, q, sign))"
   ]
  },
  {
   "cell_type": "code",
   "execution_count": null,
   "metadata": {},
   "outputs": [],
   "source": []
  }
 ],
 "metadata": {
  "kernelspec": {
   "display_name": "Python 3",
   "language": "python",
   "name": "python3"
  },
  "language_info": {
   "codemirror_mode": {
    "name": "ipython",
    "version": 3
   },
   "file_extension": ".py",
   "mimetype": "text/x-python",
   "name": "python",
   "nbconvert_exporter": "python",
   "pygments_lexer": "ipython3",
   "version": "3.5.3"
  }
 },
 "nbformat": 4,
 "nbformat_minor": 2
}
