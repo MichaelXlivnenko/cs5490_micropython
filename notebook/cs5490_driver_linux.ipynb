{
 "cells": [
  {
   "cell_type": "code",
   "execution_count": 1,
   "metadata": {},
   "outputs": [],
   "source": [
    "import serial\n",
    "import time\n",
    "import struct"
   ]
  },
  {
   "cell_type": "markdown",
   "metadata": {},
   "source": [
    "# List Important Registers\n",
    "Sourced from [datasheet](https://statics.cirrus.com/pubs/proDatasheet/CS5490_F3.pdf)"
   ]
  },
  {
   "cell_type": "code",
   "execution_count": 2,
   "metadata": {},
   "outputs": [],
   "source": [
    "CMD_READ  = 0x00\n",
    "CMD_WRITE = 0x40\n",
    "CMD_PAGE  = 0x80\n",
    "CMD_INST  = 0xC0\n",
    "\n",
    "# HARDWARE Page 0\n",
    "HARDWARE_PAGE = 0 << 8\n",
    "\n",
    "# Note, page + address are merged into a single 16 bit value\n",
    "# List Addresses\n",
    "CONFIG0 = 0x00 + HARDWARE_PAGE\n",
    "CONFIG1 = 0x01 + HARDWARE_PAGE\n",
    "MASK = 0x03 + HARDWARE_PAGE\n",
    "PC = 0x05 + HARDWARE_PAGE\n",
    "SERIALCTRL = 0x07 + HARDWARE_PAGE\n",
    "PULSEWIDTH = 0x08 + HARDWARE_PAGE\n",
    "PULSECTRL = 0x09 + HARDWARE_PAGE\n",
    "STATUS0 = 0x17 + HARDWARE_PAGE\n",
    "STATUS1 = 0x18 + HARDWARE_PAGE\n",
    "STATUS2 = 0x19 + HARDWARE_PAGE\n",
    "REGLOCK = 0x22 + HARDWARE_PAGE\n",
    "VPEAK = 0x24 + HARDWARE_PAGE\n",
    "IPEAK = 0x25 + HARDWARE_PAGE\n",
    "PSDC = 0x30 + HARDWARE_PAGE\n",
    "ZXNUM = 0x37 + HARDWARE_PAGE\n",
    "\n",
    "# SOFTWARE Page 16\n",
    "SOFTWARE_P16 = 16 << 8\n",
    "\n",
    "# List Addresses\n",
    "CONFIG2 = 0x00 + SOFTWARE_P16\n",
    "REGCHK = 0x01 + SOFTWARE_P16\n",
    "V_INST = 0x02 + SOFTWARE_P16\n",
    "I_INST = 0x03 + SOFTWARE_P16\n",
    "P_INST = 0x04 + SOFTWARE_P16\n",
    "P_AVG = 0x05 + SOFTWARE_P16\n",
    "I_RMS = 0x06 + SOFTWARE_P16\n",
    "V_RMS = 0x07 + SOFTWARE_P16\n",
    "Q_AVG = 0x0E + SOFTWARE_P16\n",
    "Q_INST = 0x0F + SOFTWARE_P16\n",
    "S_INST = 0x14 + SOFTWARE_P16\n",
    "PF = 0x15 + SOFTWARE_P16\n",
    "TEMP = 0x1B + SOFTWARE_P16  # S Q7.16\n",
    "P_SUM = 0x1D + SOFTWARE_P16\n",
    "S_SUM = 0x1E + SOFTWARE_P16\n",
    "Q_SUM = 0x1F + SOFTWARE_P16\n",
    "I_DCOFF = 0x20 + SOFTWARE_P16\n",
    "I_GAIN = 0x21 + SOFTWARE_P16  # U Q2.22\n",
    "V_DCOFF = 0x22 + SOFTWARE_P16\n",
    "V_GAIN = 0x23 + SOFTWARE_P16  # U Q2.22\n",
    "P_OFF = 0x24 + SOFTWARE_P16\n",
    "I_ACOFF = 0x25 + SOFTWARE_P16\n",
    "EPSILON = 0x31 + SOFTWARE_P16\n",
    "SAMPLECOUNT = 0x33 + SOFTWARE_P16\n",
    "T_GAIN = 0x36 + SOFTWARE_P16  # U Q8.16\n",
    "T_OFF = 0x37 + SOFTWARE_P16\n",
    "T_SETTLE = 0x39 + SOFTWARE_P16\n",
    "LOAD_MIN = 0x40 + SOFTWARE_P16\n",
    "SYS_GAIN = 0x3C + SOFTWARE_P16\n",
    "SYS_TIME = 0x3D + SOFTWARE_P16\n",
    "\n",
    "# SOFTWARE Page 17\n",
    "SOFTWARE_P17 = 17 << 8\n",
    "\n",
    "# List Addresses\n",
    "VSAG_DUR = 0x00 + SOFTWARE_P17\n",
    "VSAG_LEVEL = 0x01 + SOFTWARE_P17\n",
    "IOVER_DUR = 0x04 + SOFTWARE_P17\n",
    "IOVER_LEVEL = 0x05 + SOFTWARE_P17\n",
    "\n",
    "# SOFTWARE Page 18\n",
    "SOFTWARE_P18 = 18 << 8\n",
    "\n",
    "# List Addresses\n",
    "IZX_LEVEL = 0x18 + SOFTWARE_P18\n",
    "PULSERATE = 0x1C + SOFTWARE_P18\n",
    "INT_GAIN = 0x2B + SOFTWARE_P18\n",
    "VSWELL_DUR = 0x2E + SOFTWARE_P18\n",
    "VSWELL_LEVEL = 0x2F + SOFTWARE_P18\n",
    "VZX_LEVEL = 0x3A + SOFTWARE_P18\n",
    "CYCLECOUNT = 0x3E + SOFTWARE_P18\n",
    "SCALE = 0x3F + SOFTWARE_P18\n",
    "\n",
    "\n",
    "# Start of register metadata, will help with register dumps, value conversions, sanity check\n",
    "reginfo = {  # (string:name, int:q, bool:signed, int:default)\n",
    "    # SW page 16\n",
    "    CONFIG2: ('config2', 0, False, 0x100200),\n",
    "    REGCHK: ('regchk', 0, False, 0),\n",
    "    V_INST: ('v_inst', 23, True, 0),\n",
    "    I_INST: ('i_inst', 23, True, 0),\n",
    "    P_INST: ('p_inst', 23, True, 0),\n",
    "    P_AVG: ('p_avg', 23, True, 0),\n",
    "    I_RMS: ('i_rms', 24, False, 0),\n",
    "    V_RMS: ('v_rms', 24, False, 0),\n",
    "    Q_AVG: ('q_avg', 23, True, 0),\n",
    "\n",
    "    TEMP: ('temp', 16, True, 0)\n",
    "}\n",
    "\n",
    "\n",
    "# Instructions (use with CMD_INST)\n",
    "\n",
    "# Controls\n",
    "SOFT_RESET = 0x1\n",
    "STANDBY = 0x2\n",
    "WAKEUP = 0x3\n",
    "SINGLE_CONV =  0x14\n",
    "CONT_CONV = 0x15\n",
    "HALT_CONV = 0x18\n",
    "\n",
    "# Calibration\n",
    "I_AC_CAL = 0x31\n",
    "V_AC_CAL = 0x32\n",
    "IV_AC_CAL = 0x36\n",
    "I_DC_CAL = 0x21\n",
    "V_DC_CAL = 0x22\n",
    "IV_DC_CAL = 0x26\n",
    "I_GAIN_CAL = 0x39\n",
    "V_GAIN_CAL = 0x3A\n",
    "\n",
    "IV_GAIN_CAL = 0x3E"
   ]
  },
  {
   "cell_type": "code",
   "execution_count": 3,
   "metadata": {},
   "outputs": [
    {
     "name": "stdout",
     "output_type": "stream",
     "text": [
      "1 1.1920928955078125e-07 5.960464477539063e-08 1 1\n",
      "65536 0.0078125 0.00390625 65536 65536\n",
      "8388607 0.9999998807907104 0.4999999403953552 8388607 8388607\n",
      "8388608 -1.0 0.5 8388608 8388608\n",
      "8454144 -0.9921875 0.50390625 8454144 8454144\n",
      "16777215 -1.1920928955078125e-07 0.9999999403953552 16777215 16777215\n"
     ]
    }
   ],
   "source": [
    " # Conversion functions between float and fixed point\n",
    "\n",
    "def q2f(v, q, signed=True):\n",
    "    '''Signed fixed point to float conversion\n",
    "    val = 24 bit integer value\n",
    "    q = number of fraction bits 0..23'''\n",
    "    sign = v & 0x800000\n",
    "    if signed:\n",
    "        assert(q <= 23)\n",
    "        v = v & 0x7FFFFF\n",
    "        v = v - sign\n",
    "    else:\n",
    "        assert(q <= 24)\n",
    "    return v / (1 << q)\n",
    "\n",
    "\n",
    "def f2q(val, q, signed=True):\n",
    "    '''Float to fixed point. Works for signed and unsigned nubmers'''\n",
    "    return int(0xFFFFFF & int(val * (1 << q)))\n",
    "\n",
    "# Quick eyeball test\n",
    "tv = (1, 0x10000, 0x7FFFFF, 0x800000, 0x810000, 0xFFFFFF)\n",
    "for v in tv:\n",
    "    s = q2f(v, 23, True)\n",
    "    u = q2f(v, 24, False)\n",
    "    print(v, s, u, f2q(s, 23, True), f2q(u, 24, False))"
   ]
  },
  {
   "cell_type": "code",
   "execution_count": 4,
   "metadata": {},
   "outputs": [],
   "source": [
    "class cs5490(object):\n",
    "    def __init__(self, serial, debug=False):\n",
    "        self.current_page = None\n",
    "        self.serial = serial\n",
    "        self.debug = debug\n",
    "        \n",
    "    def read_register(self, register):\n",
    "        page = (register & 0x3F00) >> 8\n",
    "        addr = register & 0x3F\n",
    "        if self.current_page != page:\n",
    "            self.serial.write(bytearray([CMD_PAGE | page]))\n",
    "            self.current_page = page\n",
    "        self.serial.write(bytearray([addr]))\n",
    "        time.sleep(0.1)\n",
    "        buffer = bytearray(4)\n",
    "        rb = self.serial.read(3)\n",
    "        buffer[0:3] = rb\n",
    "        val = struct.unpack('<L',buffer)[0]\n",
    "        if self.debug:\n",
    "            print('Read %02d:%02d = 0x%06x %d' % (page, addr, val, val))\n",
    "        return val\n",
    "\n",
    "    def write_register(self, register, val):\n",
    "        page = (register & 0x3F00) >> 8\n",
    "        addr = register & 0x3F\n",
    "        if self.current_page != page:\n",
    "            self.serial.write(bytearray([CMD_PAGE | page]))\n",
    "            self.current_page = page\n",
    "        self.serial.write(bytearray([CMD_WRITE | addr]))\n",
    "        buffer = struct.pack('<L', val)\n",
    "        self.serial.write(buffer[0:3])    \n",
    "        if self.debug:\n",
    "            print('Write %02d:%02d = 0x%06x %d' % (page, addr, val, val))\n",
    "        \n",
    "    def instruction(self, instr):\n",
    "        self.serial.write(bytearray([CMD_INST | instr]))\n",
    "        if self.debug:\n",
    "            print('Instruction %x' % instr)"
   ]
  },
  {
   "cell_type": "code",
   "execution_count": 8,
   "metadata": {},
   "outputs": [],
   "source": [
    "portname = '/dev/serial/by-id/usb-FTDI_FT232R_USB_UART_A6007wZa-if00-port0'\n",
    "sp = serial.Serial(port=portname, baudrate=600)\n",
    "time.sleep(1)\n",
    "chip = cs5490(sp, debug=True)"
   ]
  },
  {
   "cell_type": "markdown",
   "metadata": {},
   "source": [
    "# Perform Soft RESET"
   ]
  },
  {
   "cell_type": "code",
   "execution_count": 9,
   "metadata": {},
   "outputs": [
    {
     "name": "stdout",
     "output_type": "stream",
     "text": [
      "Instruction 1\n"
     ]
    }
   ],
   "source": [
    "chip.instruction(SOFT_RESET)"
   ]
  },
  {
   "cell_type": "markdown",
   "metadata": {},
   "source": [
    "# Read Hardware register Config0"
   ]
  },
  {
   "cell_type": "code",
   "execution_count": 10,
   "metadata": {},
   "outputs": [
    {
     "name": "stdout",
     "output_type": "stream",
     "text": [
      "Read 00:00 = 0xc02000 12591104\n"
     ]
    },
    {
     "data": {
      "text/plain": [
       "12591104"
      ]
     },
     "execution_count": 10,
     "metadata": {},
     "output_type": "execute_result"
    }
   ],
   "source": [
    "chip.read_register(CONFIG0)"
   ]
  },
  {
   "cell_type": "code",
   "execution_count": 11,
   "metadata": {},
   "outputs": [
    {
     "name": "stdout",
     "output_type": "stream",
     "text": [
      "Read 00:00 = 0xc02000 12591104\n",
      "Read 00:01 = 0x00eeee 61166\n",
      "Read 00:03 = 0x000000 0\n",
      "Read 00:05 = 0x000000 0\n",
      "Read 00:07 = 0x02004d 131149\n",
      "Read 00:08 = 0x000001 1\n",
      "Read 00:09 = 0x000000 0\n",
      "Read 00:23 = 0x800000 8388608\n",
      "Read 00:24 = 0x801800 8394752\n",
      "Read 00:25 = 0x000000 0\n",
      "Read 00:36 = 0x000000 0\n",
      "Read 00:37 = 0x000000 0\n",
      "Read 00:48 = 0x000000 0\n",
      "Read 00:55 = 0x000064 100\n"
     ]
    }
   ],
   "source": [
    "hw0_valid_addrs = (CONFIG0, CONFIG1, MASK, PC, SERIALCTRL,\n",
    "PULSEWIDTH, PULSECTRL, STATUS0, STATUS1, STATUS2,\n",
    "VPEAK, IPEAK, PSDC, ZXNUM)\n",
    "\n",
    "chip.debug = True\n",
    "for r in hw0_valid_addrs:\n",
    "    rv = chip.read_register(r)\n",
    "chip.debug =  False\n"
   ]
  },
  {
   "cell_type": "code",
   "execution_count": 12,
   "metadata": {},
   "outputs": [
    {
     "name": "stdout",
     "output_type": "stream",
     "text": [
      "4096 config2 1049088 1049088 1049088.0\n",
      "4097 regchk 0 0 0.0\n",
      "4098 v_inst 0 0 0.0\n",
      "4099 i_inst 0 0 0.0\n",
      "4100 p_inst 0 0 0.0\n",
      "4101 p_avg 0 0 0.0\n",
      "4102 i_rms 0 0 0.0\n",
      "4103 v_rms 0 0 0.0\n",
      "4123 temp 0 0 0.0\n",
      "4110 q_avg 0 0 0.0\n"
     ]
    }
   ],
   "source": [
    "for addr, info in reginfo.items():\n",
    "    v = chip.read_register(addr)\n",
    "    print(addr, info[0], v, info[3], q2f(v, info[1], info[2]))"
   ]
  },
  {
   "cell_type": "markdown",
   "metadata": {},
   "source": [
    "# Read Software register Voltage Gain, Current Gain, Temperature Gain"
   ]
  },
  {
   "cell_type": "code",
   "execution_count": 13,
   "metadata": {},
   "outputs": [
    {
     "name": "stdout",
     "output_type": "stream",
     "text": [
      "1.0\n"
     ]
    }
   ],
   "source": [
    "v = chip.read_register(V_GAIN)\n",
    "print(q2f(v, 22, False))"
   ]
  },
  {
   "cell_type": "code",
   "execution_count": 14,
   "metadata": {},
   "outputs": [],
   "source": [
    "gain = 1.0\n",
    "gain_q = f2q(gain, 22, False)\n",
    "chip.write_register(V_GAIN, gain_q)"
   ]
  },
  {
   "cell_type": "code",
   "execution_count": 15,
   "metadata": {},
   "outputs": [
    {
     "name": "stdout",
     "output_type": "stream",
     "text": [
      "1.0\n"
     ]
    }
   ],
   "source": [
    "v = chip.read_register(V_GAIN)\n",
    "print(q2f(v, 22, False))"
   ]
  },
  {
   "cell_type": "code",
   "execution_count": 16,
   "metadata": {},
   "outputs": [
    {
     "name": "stdout",
     "output_type": "stream",
     "text": [
      "1.0\n"
     ]
    }
   ],
   "source": [
    "i = chip.read_register(I_GAIN)\n",
    "print(q2f(i, 22, False))"
   ]
  },
  {
   "cell_type": "code",
   "execution_count": 17,
   "metadata": {},
   "outputs": [
    {
     "name": "stdout",
     "output_type": "stream",
     "text": [
      "6.715179443359375\n"
     ]
    }
   ],
   "source": [
    "t = chip.read_register(T_GAIN)\n",
    "print(q2f(t, 16, False))"
   ]
  },
  {
   "cell_type": "markdown",
   "metadata": {},
   "source": [
    "# Read Software register Voltage Sag, Over Current"
   ]
  },
  {
   "cell_type": "code",
   "execution_count": 18,
   "metadata": {},
   "outputs": [],
   "source": [
    "_ = chip.read_register(VSAG_LEVEL)\n",
    "_ = chip.read_register(IOVER_LEVEL)"
   ]
  },
  {
   "cell_type": "markdown",
   "metadata": {},
   "source": [
    "# Read Instantenous voltage and current"
   ]
  },
  {
   "cell_type": "code",
   "execution_count": 19,
   "metadata": {},
   "outputs": [],
   "source": [
    "chip.instruction(CONT_CONV)"
   ]
  },
  {
   "cell_type": "code",
   "execution_count": 20,
   "metadata": {
    "scrolled": true
   },
   "outputs": [
    {
     "name": "stdout",
     "output_type": "stream",
     "text": [
      "0.2146877646446228 0.3998343348503113 0.08568859100341797\n",
      "0.2147316336631775 0.39984428882598877 0.08571052551269531\n",
      "0.21479225158691406 0.3999149799346924 0.08575296401977539\n",
      "0.2148202657699585 0.40001779794692993 0.0858309268951416\n",
      "0.21478945016860962 0.3998774290084839 0.08575713634490967\n",
      "0.21478533744812012 0.3998327851295471 0.08575189113616943\n",
      "0.21497714519500732 0.39999741315841675 0.08594214916229248\n",
      "0.2148294448852539 0.39984625577926636 0.08578479290008545\n",
      "0.21470844745635986 0.3996877670288086 0.08570265769958496\n",
      "0.2147221565246582 0.3997555375099182 0.08572304248809814\n"
     ]
    }
   ],
   "source": [
    "chip.debug = False\n",
    "for _ in range(10):\n",
    "    v = chip.read_register(V_RMS)\n",
    "    i = chip.read_register(I_RMS)\n",
    "    p = chip.read_register(P_AVG)\n",
    "\n",
    "    print(q2f(v, 24, False), q2f(i, 24, False), q2f(p, 23))\n",
    "    time.sleep(1)"
   ]
  },
  {
   "cell_type": "code",
   "execution_count": 21,
   "metadata": {},
   "outputs": [
    {
     "name": "stdout",
     "output_type": "stream",
     "text": [
      "temp 26.08984375\n"
     ]
    }
   ],
   "source": [
    "reg = TEMP\n",
    "name, q, sign, default = reginfo[TEMP]\n",
    "t = chip.read_register(TEMP)\n",
    "print(name, q2f(t, q, sign))"
   ]
  },
  {
   "cell_type": "code",
   "execution_count": null,
   "metadata": {},
   "outputs": [],
   "source": []
  }
 ],
 "metadata": {
  "kernelspec": {
   "display_name": "Python 3",
   "language": "python",
   "name": "python3"
  },
  "language_info": {
   "codemirror_mode": {
    "name": "ipython",
    "version": 3
   },
   "file_extension": ".py",
   "mimetype": "text/x-python",
   "name": "python",
   "nbconvert_exporter": "python",
   "pygments_lexer": "ipython3",
   "version": "3.5.3"
  }
 },
 "nbformat": 4,
 "nbformat_minor": 2
}
