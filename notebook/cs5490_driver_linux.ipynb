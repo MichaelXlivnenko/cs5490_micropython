{
 "cells": [
  {
   "cell_type": "code",
   "execution_count": 481,
   "metadata": {},
   "outputs": [],
   "source": [
    "import collections\n",
    "import serial\n",
    "import struct\n",
    "import time\n"
   ]
  },
  {
   "cell_type": "markdown",
   "metadata": {},
   "source": [
    "# List Important Registers\n",
    "Sourced from [datasheet](https://statics.cirrus.com/pubs/proDatasheet/CS5490_F3.pdf)"
   ]
  },
  {
   "cell_type": "code",
   "execution_count": 482,
   "metadata": {},
   "outputs": [],
   "source": [
    "CMD_READ  = 0x00\n",
    "CMD_WRITE = 0x40\n",
    "CMD_PAGE  = 0x80\n",
    "CMD_INST  = 0xC0\n",
    "\n",
    "# Register 'address' includes page and nummeric format info\n",
    "ADDR_MASK = 0x0000003F\n",
    "PAGE_MASK = 0x00003F00\n",
    "PAGE_SHFT = 8\n",
    "FRAC_MASK = 0x00FF0000\n",
    "FRAC_SHFT = 16\n",
    "SIGN_MASK = 0x01000000\n",
    "SIGN_SHFT = 24\n",
    "\n",
    "\n",
    "def register(addr, page, signed=0, fracbits=0):\n",
    "    return addr + (page << PAGE_SHFT) + (fracbits << FRAC_SHFT) + (signed << SIGN_SHFT)\n",
    "\n",
    "def reg_pa(register):\n",
    "    page = (register & PAGE_MASK) >> PAGE_SHFT\n",
    "    addr = register & ADDR_MASK\n",
    "    return page, addr\n",
    "\n",
    "\n",
    "# HARDWARE Page 0\n",
    "\n",
    "CONFIG0 = register(0x00, 0, 0, 0)\n",
    "CONFIG1 = register(0x01, 0, 0, 0)\n",
    "MASK = register(0x03, 0, 0, 0)\n",
    "PC = register(0x05, 0, 0, 0)\n",
    "SERIALCTRL = register(0x07, 0, 0, 0)\n",
    "PULSEWIDTH = register(0x08, 0, 0, 0)\n",
    "PULSECTRL = register(0x09, 0, 0, 0)\n",
    "STATUS0 = register(0x17, 0, 0, 0)\n",
    "STATUS1 = register(0x18, 0, 0, 0)\n",
    "STATUS2 = register(0x19, 0, 0, 0)\n",
    "REGLOCK = register(0x22, 0, 0, 0)\n",
    "V_PEAK = register(0x24, 0, 1, 23)\n",
    "I_PEAK = register(0x25, 0, 1, 23)\n",
    "PSDC = register(0x30, 0, 0, 0)\n",
    "ZXNUM = register(0x37, 0, 0, 0)\n",
    "\n",
    "# SOFTWARE Page 16\n",
    "CONFIG2 = register(0x00, 16, 0, 0)\n",
    "REGCHK = register(0x01, 16, 0, 0)\n",
    "V_INST = register(0x02, 16, 1, 23)\n",
    "I_INST = register(0x03, 16, 1, 23)\n",
    "P_INST = register(0x04, 16, 1, 23)\n",
    "P_AVG = register(0x05, 16, 1, 23)\n",
    "I_RMS = register(0x06, 16, 0, 24)\n",
    "V_RMS = register(0x07, 16, 0, 24)\n",
    "Q_AVG = register(0x0E, 16, 1, 23)\n",
    "Q_INST = register(0x0F, 16, 1, 23)\n",
    "S_INST = register(0x14, 16, 1, 23)\n",
    "PF = register(0x15, 16, 1, 23)\n",
    "TEMP = register(0x1B, 16, 1, 16)  # S Q7.16\n",
    "P_SUM = register(0x1D, 16, 1, 23)\n",
    "S_SUM = register(0x1E, 16, 1, 23)\n",
    "Q_SUM = register(0x1F, 16, 1, 23)\n",
    "I_DCOFF = register(0x20, 16, 1, 23)\n",
    "I_GAIN = register(0x21, 16, 0, 22)  # U Q2.22\n",
    "V_DCOFF = register(0x22, 16, 1, 23)\n",
    "V_GAIN = register(0x23, 16, 0, 22)  # U Q2.22\n",
    "P_OFF = register(0x24, 16, 1, 23)\n",
    "I_ACOFF = register(0x25, 16, 1, 23)\n",
    "Q_OFF = register(0x26, 16, 1, 23)\n",
    "EPSILON = register(0x31, 16, 1, 23)\n",
    "SAMPLECOUNT = register(0x33, 16, 0,0)\n",
    "T_GAIN = register(0x36, 16, 0, 16)  # U Q8.16\n",
    "T_OFF = register(0x37, 16, 1, 16)\n",
    "T_SETTLE = register(0x39, 16, 0, 0)\n",
    "LOAD_MIN = register(0x40, 16, 1, 23)\n",
    "SYS_GAIN = register(0x3C, 16, 1, 22)\n",
    "SYS_TIME = register(0x3D, 16, 0, 0)\n",
    "\n",
    "# SOFTWARE Page 17\n",
    "VSAG_DUR = register(0x00, 17, 0, 0)\n",
    "VSAG_LEVEL = register(0x01, 17, 1, 23)\n",
    "IOVER_DUR = register(0x04, 17, 0, 0)\n",
    "IOVER_LEVEL = register(0x05, 17, 1, 23)\n",
    "\n",
    "# SOFTWARE Page 18\n",
    "IZX_LEVEL = register(0x18, 18, 1, 23)\n",
    "PULSERATE = register(0x1C, 18, 1, 23)\n",
    "INT_GAIN = register(0x2B, 18, 1, 23)\n",
    "VSWELL_DUR = register(0x2E, 18, 0, 0)\n",
    "VSWELL_LEVEL = register(0x2F, 18, 1, 23)\n",
    "VZX_LEVEL = register(0x3A, 18, 1, 23)\n",
    "CYCLECOUNT = register(0x3E, 18, 0, 0)\n",
    "SCALE = register(0x3F, 18, 0, 0)\n",
    "\n",
    "# Start of register metadata, will help with register dumps, value conversions, sanity check\n",
    "regtable = (  # (address, string:name, int:default)\n",
    "    # HW page 0\n",
    "    (CONFIG0, 'config0', 0xC02000),\n",
    "    (CONFIG1, 'config1', 0x00EEEE),\n",
    "    (SERIALCTRL, 'serialctrl', 0x02004D),\n",
    "    (STATUS0, 'status0', 0x800000),\n",
    "    (STATUS1, 'status1', 0x801800),\n",
    "    (STATUS2, 'status2', 0),\n",
    "    (V_PEAK, 'v_peak', 0),\n",
    "    (I_PEAK, 'i_peak', 0),\n",
    "    \n",
    "    # SW page 16\n",
    "    (CONFIG2, 'config2', 0x100200),\n",
    "    (REGCHK, 'regchk', 0),\n",
    "    (V_INST, 'v_inst', 0),\n",
    "    (I_INST, 'i_inst', 0),\n",
    "    (P_INST, 'p_inst', 0),\n",
    "    (P_AVG, 'p_avg', 0),\n",
    "    (I_RMS, 'i_rms', 0),\n",
    "    (V_RMS, 'v_rms', 0),\n",
    "    (Q_AVG, 'q_avg', 0),\n",
    "\n",
    "    (TEMP, 'temp', 0),\n",
    "    (I_GAIN, 'i_gain', 0x400000),\n",
    "    (V_GAIN, 'v_gain', 0x400000),\n",
    "    (T_GAIN, 't_gain', 0x06B716),\n",
    ")\n",
    "\n",
    "reginfo = collections.OrderedDict(((r[0], r[1:]) for r in regtable))\n",
    "\n",
    "# Instructions (use with CMD_INST)\n",
    "\n",
    "# Controls\n",
    "SOFT_RESET = 0x1\n",
    "STANDBY = 0x2\n",
    "WAKEUP = 0x3\n",
    "SINGLE_CONV =  0x14\n",
    "CONT_CONV = 0x15\n",
    "HALT_CONV = 0x18\n",
    "\n",
    "# Calibration\n",
    "I_AC_CAL = 0x31\n",
    "V_AC_CAL = 0x32\n",
    "IV_AC_CAL = 0x36\n",
    "I_DC_CAL = 0x21\n",
    "V_DC_CAL = 0x22\n",
    "IV_DC_CAL = 0x26\n",
    "I_GAIN_CAL = 0x39\n",
    "V_GAIN_CAL = 0x3A\n",
    "\n",
    "IV_GAIN_CAL = 0x3E"
   ]
  },
  {
   "cell_type": "code",
   "execution_count": 483,
   "metadata": {},
   "outputs": [],
   "source": [
    " # Conversion functions between float and fixed point\n",
    "\n",
    "def q2f(v, q, signed=SIGNED):\n",
    "    '''Signed fixed point to float conversion\n",
    "    val = 24 bit integer value\n",
    "    q = number of fraction bits 0..23'''\n",
    "    sign = v & 0x800000\n",
    "    if signed:\n",
    "        assert(q <= 23)\n",
    "        v = v & 0x7FFFFF\n",
    "        v = v - sign\n",
    "    else:\n",
    "        assert(q <= 24)\n",
    "    return v / (1 << q)\n",
    "\n",
    "\n",
    "def f2q(val, q):\n",
    "    '''Float to fixed point. Works for signed and unsigned nubmers'''\n",
    "    return int(0xFFFFFF & int(val * (1 << q)))\n",
    "\n",
    "if False:\n",
    "    # Quick eyeball test\n",
    "    tv = (1, 0x10000, 0x7FFFFF, 0x800000, 0x810000, 0xFFFFFF)\n",
    "    for v in tv:\n",
    "        s = q2f(v, 23, True)\n",
    "        u = q2f(v, 24, False)\n",
    "        print(v, s, u, f2q(s, 23), f2q(u, 24))"
   ]
  },
  {
   "cell_type": "code",
   "execution_count": 484,
   "metadata": {},
   "outputs": [],
   "source": [
    "class cs5490(object):\n",
    "    def __init__(self, serial, debug=False):\n",
    "        self.current_page = None\n",
    "        self.serial = serial\n",
    "        self.debug = debug\n",
    "        self.reset()\n",
    "        \n",
    "    def reset(self):\n",
    "        self.serial.dtr = 1  # physical low\n",
    "        self.serial.baudrate = 600\n",
    "        time.sleep(0.1)\n",
    "        self.serial.dtr = 0  # physical high\n",
    "        time.sleep(0.5)\n",
    "        \n",
    "\n",
    "    def read_raw_register(self, register):\n",
    "        page, addr = reg_pa(register)\n",
    "        if self.current_page != page:\n",
    "            self.serial.write(bytearray([CMD_PAGE | page]))\n",
    "            self.current_page = page\n",
    "        self.serial.write(bytearray([addr]))\n",
    "        # time.sleep(0.1)\n",
    "        buffer = bytearray(4)\n",
    "        rb = self.serial.read(3)\n",
    "        buffer[0:3] = rb\n",
    "        return struct.unpack('<L',buffer)[0]\n",
    "        \n",
    "    def read_register(self, register):\n",
    "        '''Read a value from register\n",
    "        If register is defined as a fixed point number, it will be converted to float\n",
    "        '''\n",
    "        val = self.read_raw_register(register)\n",
    "        \n",
    "        fracbits = register & FRAC_MASK\n",
    "        if fracbits:  # Register is fixed point number\n",
    "            fracbits >>= FRAC_SHFT\n",
    "            signed = register & SIGN_MASK\n",
    "            val = q2f(val, fracbits, signed)\n",
    "\n",
    "        if self.debug:\n",
    "            name, default = reginfo.get(register, ('unknown', 0))\n",
    "            if fracbits:\n",
    "                sv = val\n",
    "                dv = q2f(default, fracbits, signed)\n",
    "            else:\n",
    "                sv = hex(val)\n",
    "                dv = hex(default)\n",
    "            print('Read %10s = %s [%s]' % (name, sv, dv))\n",
    "        return val\n",
    "\n",
    "    def write_raw_register(self, register, val):\n",
    "        page, addr = reg_pa(register)\n",
    "        if self.current_page != page:\n",
    "            self.serial.write(bytearray([CMD_PAGE | page]))\n",
    "            self.current_page = page\n",
    "        self.serial.write(bytearray([CMD_WRITE | addr]))\n",
    "        buffer = struct.pack('<L', val)\n",
    "        self.serial.write(buffer[0:3])    \n",
    "\n",
    "    def write_register(self, register, val):\n",
    "        '''Write converted value to register\n",
    "        If register is a fixed point number, the float val will be converted\n",
    "        automatically'''\n",
    "        if self.debug:\n",
    "            info = reginfo.get(register, ('unknown', 0))\n",
    "            print('Write %10s = %s' % (info[0], val))\n",
    "\n",
    "        fracbits = register & FRAC_MASK\n",
    "        if fracbits:  # Register is fixed point number\n",
    "            fracbits >>= FRAC_SHFT\n",
    "            signed = register & SIGN_MASK\n",
    "            val = f2q(val, fracbits)\n",
    "            \n",
    "        self.write_raw_register(register, val)\n",
    "\n",
    "        \n",
    "    def instruction(self, instr):\n",
    "        self.serial.write(bytearray([CMD_INST | instr]))\n",
    "        if self.debug:\n",
    "            print('Instruction %x' % instr)"
   ]
  },
  {
   "cell_type": "code",
   "execution_count": 485,
   "metadata": {},
   "outputs": [],
   "source": [
    "portname = '/dev/serial/by-id/usb-FTDI_FT232R_USB_UART_A6007wZa-if00-port0'\n",
    "sp = serial.Serial(port=portname, baudrate=600)\n",
    "chip = cs5490(sp, debug=True)"
   ]
  },
  {
   "cell_type": "markdown",
   "metadata": {},
   "source": [
    "# Perform Soft RESET"
   ]
  },
  {
   "cell_type": "code",
   "execution_count": 486,
   "metadata": {},
   "outputs": [
    {
     "name": "stdout",
     "output_type": "stream",
     "text": [
      "Instruction 1\n"
     ]
    }
   ],
   "source": [
    "chip.reset()\n",
    "chip.instruction(SOFT_RESET)"
   ]
  },
  {
   "cell_type": "code",
   "execution_count": 487,
   "metadata": {},
   "outputs": [],
   "source": [
    "# Try to use faster baud rate\n",
    "# chip.write_register(SERIALCTRL, 0x020000 + 1229)   # baud rate to 9600\n",
    "# chip.serial.baudrate = 9600"
   ]
  },
  {
   "cell_type": "markdown",
   "metadata": {},
   "source": [
    "# Read documented registers"
   ]
  },
  {
   "cell_type": "code",
   "execution_count": 488,
   "metadata": {},
   "outputs": [
    {
     "name": "stdout",
     "output_type": "stream",
     "text": [
      "Read    config0 = 0xc02000 [0xc02000]\n",
      "Read    config1 = 0xeeee [0xeeee]\n",
      "Read serialctrl = 0x2004d [0x2004d]\n",
      "Read    status0 = 0x800000 [0x800000]\n",
      "Read    status1 = 0x801800 [0x801800]\n",
      "Read    status2 = 0x0 [0x0]\n",
      "Read     v_peak = 0.0 [0.0]\n",
      "Read     i_peak = 0.0 [0.0]\n",
      "Read    config2 = 0x100200 [0x100200]\n",
      "Read     regchk = 0x0 [0x0]\n",
      "Read     v_inst = 0.0 [0.0]\n",
      "Read     i_inst = 0.0 [0.0]\n",
      "Read     p_inst = 0.0 [0.0]\n",
      "Read      p_avg = 0.0 [0.0]\n",
      "Read      i_rms = 0.0 [0.0]\n",
      "Read      v_rms = 0.0 [0.0]\n",
      "Read      q_avg = 0.0 [0.0]\n",
      "Read       temp = 0.0 [0.0]\n",
      "Read     i_gain = 1.0 [1.0]\n",
      "Read     v_gain = 1.0 [1.0]\n",
      "Read     t_gain = 6.715179443359375 [6.715179443359375]\n"
     ]
    }
   ],
   "source": [
    "chip.debug = True\n",
    "for addr, info in reginfo.items():\n",
    "    v = chip.read_register(addr)\n",
    "    # print(v)"
   ]
  },
  {
   "cell_type": "markdown",
   "metadata": {},
   "source": [
    "# Change Voltage Gain"
   ]
  },
  {
   "cell_type": "code",
   "execution_count": 489,
   "metadata": {},
   "outputs": [
    {
     "name": "stdout",
     "output_type": "stream",
     "text": [
      "Write     v_gain = 0.8\n"
     ]
    }
   ],
   "source": [
    "gain = 0.8\n",
    "chip.write_register(V_GAIN, gain)"
   ]
  },
  {
   "cell_type": "code",
   "execution_count": 490,
   "metadata": {},
   "outputs": [
    {
     "name": "stdout",
     "output_type": "stream",
     "text": [
      "Read     v_gain = 0.7999999523162842 [1.0]\n",
      "0.7999999523162842\n"
     ]
    }
   ],
   "source": [
    "v = chip.read_register(V_GAIN)\n",
    "print(v)"
   ]
  },
  {
   "cell_type": "markdown",
   "metadata": {},
   "source": [
    "# Read Instantaneous voltage,current and power"
   ]
  },
  {
   "cell_type": "code",
   "execution_count": 491,
   "metadata": {},
   "outputs": [
    {
     "name": "stdout",
     "output_type": "stream",
     "text": [
      "Instruction 15\n"
     ]
    }
   ],
   "source": [
    "chip.instruction(CONT_CONV)"
   ]
  },
  {
   "cell_type": "code",
   "execution_count": 492,
   "metadata": {
    "scrolled": true
   },
   "outputs": [
    {
     "name": "stdout",
     "output_type": "stream",
     "text": [
      "V=  0.0 I=  0.0, P=  0.0\n",
      "V=  0.0 I=  0.0, P=0.133\n",
      "V=0.337 I=0.397, P=0.133\n",
      "V=0.337 I=0.397, P=0.133\n",
      "V=0.337 I=0.397, P=0.134\n",
      "V=0.337 I=0.397, P=0.133\n",
      "V=0.337 I=0.397, P=0.133\n",
      "V=0.336 I=0.396, P=0.133\n",
      "V=0.336 I=0.396, P=0.133\n",
      "V=0.336 I=0.396, P=0.133\n"
     ]
    }
   ],
   "source": [
    "chip.debug = False\n",
    "for _ in range(10):\n",
    "    v = chip.read_register(V_RMS)\n",
    "    i = chip.read_register(I_RMS)\n",
    "    p = chip.read_register(P_AVG)\n",
    "    print(\"V={:5.3} I={:5.3}, P={:5.3}\".format(v, i, p))\n",
    "    time.sleep(0.5)"
   ]
  },
  {
   "cell_type": "code",
   "execution_count": 493,
   "metadata": {},
   "outputs": [
    {
     "name": "stdout",
     "output_type": "stream",
     "text": [
      "Temperature 26.1484375\n"
     ]
    }
   ],
   "source": [
    "reg = TEMP\n",
    "t = chip.read_register(TEMP)\n",
    "print('Temperature', t)"
   ]
  }
 ],
 "metadata": {
  "kernelspec": {
   "display_name": "Python 3",
   "language": "python",
   "name": "python3"
  },
  "language_info": {
   "codemirror_mode": {
    "name": "ipython",
    "version": 3
   },
   "file_extension": ".py",
   "mimetype": "text/x-python",
   "name": "python",
   "nbconvert_exporter": "python",
   "pygments_lexer": "ipython3",
   "version": "3.5.3"
  }
 },
 "nbformat": 4,
 "nbformat_minor": 2
}
